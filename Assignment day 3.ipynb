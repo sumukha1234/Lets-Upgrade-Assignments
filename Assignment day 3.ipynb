{
 "cells": [
  {
   "cell_type": "code",
   "execution_count": 1,
   "metadata": {},
   "outputs": [],
   "source": [
    "import numpy as np"
   ]
  },
  {
   "cell_type": "code",
   "execution_count": 2,
   "metadata": {},
   "outputs": [
    {
     "data": {
      "text/plain": [
       "[2, 5, 8, 11, 14, 17, 20, 23, 26, 29, 32, 35, 38, 41, 44, 47]"
      ]
     },
     "execution_count": 2,
     "metadata": {},
     "output_type": "execute_result"
    }
   ],
   "source": [
    "np.arange(2, 50, 3).tolist()\n"
   ]
  },
  {
   "cell_type": "markdown",
   "metadata": {},
   "source": [
    "Question 2:"
   ]
  },
  {
   "cell_type": "code",
   "execution_count": 6,
   "metadata": {},
   "outputs": [
    {
     "name": "stdout",
     "output_type": "stream",
     "text": [
      "enter first list elements:\n",
      "10\n",
      "9\n",
      "8\n",
      "7\n",
      "6\n",
      "enter second list elements:\n",
      "5\n",
      "4\n",
      "3\n",
      "2\n",
      "1\n",
      "[10  9  8  7  6]\n",
      " \n",
      "[5 4 3 2 1]\n",
      "[10  9  8  7  6  5  4  3  2  1]\n",
      "Sorted concatenated array:\n",
      "[ 1  2  3  4  5  6  7  8  9 10]\n"
     ]
    }
   ],
   "source": [
    "import numpy as np\n",
    "list1=[]\n",
    "list2=[]\n",
    "print('enter first list elements:')\n",
    "for i in range(0,5):\n",
    "    ele=int(input())\n",
    "    list1.append(ele)\n",
    "print('enter second list elements:')\n",
    "for i in range(0,5):\n",
    "    ele1=int(input())\n",
    "    list2.append(ele1)\n",
    "arr1=np.array(list1)\n",
    "arr2=np.array(list2)\n",
    "print(arr1)\n",
    "print(\" \")\n",
    "print(arr2)\n",
    "arr3=np.concatenate((arr1, arr2), axis=None)\n",
    "print(arr3)\n",
    "print('Sorted concatenated array:')\n",
    "print(np.sort(arr3))"
   ]
  },
  {
   "cell_type": "markdown",
   "metadata": {},
   "source": [
    "Question 3:"
   ]
  },
  {
   "cell_type": "code",
   "execution_count": 8,
   "metadata": {},
   "outputs": [
    {
     "name": "stdout",
     "output_type": "stream",
     "text": [
      "Shape of array:  (2, 3)\n",
      "Size of array:  6\n"
     ]
    }
   ],
   "source": [
    "import numpy as np\n",
    "\n",
    "# Creating array object\n",
    "arr = np.array( [[ 1, 2, 3],\n",
    "                 [ 4, 2, 5]] )\n",
    "\n",
    "# Printing shape of array\n",
    "print(\"Shape of array: \", arr.shape)\n",
    "\n",
    "# Printing size (total number of elements) of array\n",
    "print(\"Size of array: \", arr.size)"
   ]
  },
  {
   "cell_type": "markdown",
   "metadata": {},
   "source": [
    "Question 4:"
   ]
  },
  {
   "cell_type": "code",
   "execution_count": 9,
   "metadata": {},
   "outputs": [
    {
     "name": "stdout",
     "output_type": "stream",
     "text": [
      "[1 2 3 4]\n",
      "[[1 2]\n",
      " [3 4]]\n"
     ]
    }
   ],
   "source": [
    "a_1d_array = np.array([1, 2, 3, 4])\n",
    "print(a_1d_array)\n",
    "\n",
    "reshaped_to_2d = np.reshape(a_1d_array, (-1, 2))\n",
    "print(reshaped_to_2d)"
   ]
  },
  {
   "cell_type": "markdown",
   "metadata": {},
   "source": [
    "Question 5:"
   ]
  },
  {
   "cell_type": "code",
   "execution_count": 10,
   "metadata": {},
   "outputs": [
    {
     "name": "stdout",
     "output_type": "stream",
     "text": [
      "[1 2 3 4 5 6 7 8 9]\n",
      "[11 12 13 14 15 16 17 18 19]\n",
      "[[ 1  2  3  4  5  6  7  8  9]\n",
      " [ 1  2  3  4  5  6  7  8  9]\n",
      " [11 12 13 14 15 16 17 18 19]\n",
      " [11 12 13 14 15 16 17 18 19]]\n",
      "[ 1  2  3  4  5  6  7  8  9 11 12 13 14 15 16 17 18 19]\n",
      "[[ 1  2  3  4  5  6  7  8  9]\n",
      " [11 12 13 14 15 16 17 18 19]]\n"
     ]
    }
   ],
   "source": [
    "a1 = np.arange(1, 10)\n",
    "print(a1)\n",
    "a2 = np.arange(11, 20)\n",
    "print(a2)\n",
    "stack0 = np.stack((a1, a1, a2, a2))\n",
    "print(stack0)\n",
    "stack_long = np.hstack((a1, a2))\n",
    "#stack horizontally\n",
    "print(stack_long)\n",
    "\n",
    "#stack vertically\n",
    "stack_col = np.vstack((a1, a2))\n",
    "print(stack_col)"
   ]
  },
  {
   "cell_type": "markdown",
   "metadata": {},
   "source": [
    "Question 6:"
   ]
  },
  {
   "cell_type": "code",
   "execution_count": 13,
   "metadata": {},
   "outputs": [
    {
     "name": "stdout",
     "output_type": "stream",
     "text": [
      "[[1 3]\n",
      " [2 1]\n",
      " [3 1]\n",
      " [4 2]]\n"
     ]
    }
   ],
   "source": [
    "number_list = np.array([1, 1, 2, 3, 4, 4, 1])\n",
    "\n",
    "(unique, counts) = np.unique(number_list, return_counts=True)\n",
    "frequencies = np.asarray((unique, counts)).T\n",
    "print(frequencies)"
   ]
  },
  {
   "cell_type": "code",
   "execution_count": null,
   "metadata": {},
   "outputs": [],
   "source": []
  }
 ],
 "metadata": {
  "kernelspec": {
   "display_name": "Python 3",
   "language": "python",
   "name": "python3"
  },
  "language_info": {
   "codemirror_mode": {
    "name": "ipython",
    "version": 3
   },
   "file_extension": ".py",
   "mimetype": "text/x-python",
   "name": "python",
   "nbconvert_exporter": "python",
   "pygments_lexer": "ipython3",
   "version": "3.7.1"
  }
 },
 "nbformat": 4,
 "nbformat_minor": 2
}
