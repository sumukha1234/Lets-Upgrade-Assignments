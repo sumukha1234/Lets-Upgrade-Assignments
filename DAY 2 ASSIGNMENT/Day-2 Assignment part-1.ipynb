{
 "cells": [
  {
   "cell_type": "raw",
   "metadata": {},
   "source": [
    "Questions 1:\n",
    "Create an empty list. Accept 10 numbers from the user and append to it the list if it is an even number"
   ]
  },
  {
   "cell_type": "code",
   "execution_count": 1,
   "metadata": {},
   "outputs": [
    {
     "name": "stdout",
     "output_type": "stream",
     "text": [
      "Enter the list item:\n",
      "1\n",
      "Enter the list item:\n",
      "2\n",
      "Enter the list item:\n",
      "3\n",
      "Enter the list item:\n",
      "4\n",
      "Enter the list item:\n",
      "5\n",
      "Enter the list item:\n",
      "6\n",
      "Enter the list item:\n",
      "7\n",
      "Enter the list item:\n",
      "8\n",
      "Enter the list item:\n",
      "9\n",
      "Enter the list item:\n",
      "10\n",
      "The list of elements with even inputs: [2, 4, 6, 8, 10]\n"
     ]
    }
   ],
   "source": [
    "testlist=[]\n",
    "for i in range(0,10):\n",
    "    print('Enter the list item:')\n",
    "    item=int(input())\n",
    "    if item%2==0:\n",
    "        testlist.append(item)\n",
    "        \n",
    "print(\"The list of elements with even inputs:\",testlist)"
   ]
  },
  {
   "cell_type": "raw",
   "metadata": {},
   "source": [
    "Questions 3:\n",
    "You have seen in the videos how powerful dictionary data structure is.\n",
    "In this assignment, given a number n, you have to write a program that generates a dictionary d which\n",
    "contains (i, i*i), where i is from 1 to n (both included).\n",
    "Then you have to just print this dictionary d.\n",
    "\n",
    "Example:\n",
    "Input: 4\n",
    "will give output as\n",
    "{1: 1, 2: 4, 3: 9, 4: 16}\n",
    "Input Format:\n",
    "Take the number n in a single line.\n",
    "Output Format:\n",
    "Print the dictionary d in a single line."
   ]
  },
  {
   "cell_type": "code",
   "execution_count": 2,
   "metadata": {},
   "outputs": [
    {
     "name": "stdout",
     "output_type": "stream",
     "text": [
      "Input a number 4\n",
      "{1: 1, 2: 4, 3: 9, 4: 16}\n"
     ]
    }
   ],
   "source": [
    "n=int(input(\"Input a number \"))\n",
    "d = dict()\n",
    "\n",
    "for x in range(1,n+1):\n",
    "    d[x]=x*x\n",
    "\n",
    "print(d) "
   ]
  },
  {
   "cell_type": "raw",
   "metadata": {},
   "source": [
    "Questions 4:\n",
    "There is a robot which wants to go the charging point to charge itself.\n",
    "The robot moves in a 2-D plane from the original point (0,0). The robot can\n",
    "move toward UP, DOWN, LEFT and RIGHT with given steps.\n",
    "The trace of robot movement is shown as the following:\n",
    "UP 5\n",
    "DOWN 3\n",
    "LEFT 3\n",
    "RIGHT 2\n",
    "Then, the output of the program should be:\n",
    "2\n",
    "The numbers after the direction are steps.\n",
    "Write a program to compute the distance between the current position after\n",
    "a sequence of movement and original point. If the distance is a float, then\n",
    "just print the nearest integer (use round() function for that and then convert\n",
    "it into an integer)\n",
    "Input Format:\n",
    "The first line of the input contains a number n which implies the number of\n",
    "directions to be given.\n",
    "The next n lines contain the direction and the step separated by a space.\n",
    "Output Format:\n",
    "Print the distance from the original position to the current position.\n",
    "Example:\n",
    "Input:\n",
    "4\n",
    "UP 5\n",
    "DOWN 3\n",
    "LEFT 3\n",
    "RIGHT 2\n",
    "Output:\n",
    "2"
   ]
  },
  {
   "cell_type": "code",
   "execution_count": 3,
   "metadata": {},
   "outputs": [
    {
     "name": "stdout",
     "output_type": "stream",
     "text": [
      "2\n"
     ]
    }
   ],
   "source": [
    "import math\n",
    "\n",
    "pos=[0,0]\n",
    "moves={\"UP\":[0,1],\"DOWN\":[0,-1], \"LEFT\":[-1,0],\"RIGHT\":[1,0]}\n",
    "\n",
    "\n",
    "data=[\"UP 5\",\"DOWN 3\", \"LEFT 3\", \"RIGHT 2\"]\n",
    "\n",
    "for inp in data:\n",
    "    parts=inp.split()  \n",
    "    mv=parts[0]\n",
    "    val=parts[1]\n",
    "    if mv in moves and val.isnumeric():\n",
    "        pos[0] += moves[mv][0]*int(val)\n",
    "        pos[1] += moves[mv][1]*int(val)\n",
    "\n",
    "#get distance     \n",
    "distance=math.sqrt(pos[0]**2 + pos[1]**2)\n",
    "print(round(distance))"
   ]
  },
  {
   "cell_type": "code",
   "execution_count": null,
   "metadata": {},
   "outputs": [],
   "source": []
  }
 ],
 "metadata": {
  "kernelspec": {
   "display_name": "Python 3",
   "language": "python",
   "name": "python3"
  },
  "language_info": {
   "codemirror_mode": {
    "name": "ipython",
    "version": 3
   },
   "file_extension": ".py",
   "mimetype": "text/x-python",
   "name": "python",
   "nbconvert_exporter": "python",
   "pygments_lexer": "ipython3",
   "version": "3.7.1"
  }
 },
 "nbformat": 4,
 "nbformat_minor": 2
}
